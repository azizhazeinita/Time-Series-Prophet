{
  "nbformat": 4,
  "nbformat_minor": 0,
  "metadata": {
    "colab": {
      "name": "Time Series  - Prophet.ipynb",
      "provenance": [],
      "collapsed_sections": []
    },
    "kernelspec": {
      "name": "python3",
      "display_name": "Python 3"
    }
  },
  "cells": [
    {
      "cell_type": "code",
      "metadata": {
        "id": "n9BsIYBERoYJ",
        "colab": {
          "resources": {
            "http://localhost:8080/nbextensions/google.colab/files.js": {
              "data": "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",
              "ok": true,
              "headers": [
                [
                  "content-type",
                  "application/javascript"
                ]
              ],
              "status": 200,
              "status_text": ""
            }
          },
          "base_uri": "https://localhost:8080/",
          "height": 73
        },
        "outputId": "96d229b8-873c-4c74-cd86-02ad263ac505"
      },
      "source": [
        "import pandas as pd\n",
        "import io\n",
        "\n",
        "from google.colab import files\n",
        "data_to_load = files.upload()\n",
        "    \n",
        "df = pd.read_csv(io.BytesIO(data_to_load['covid19indo-all-bersih.csv']), error_bad_lines=False)"
      ],
      "execution_count": null,
      "outputs": [
        {
          "output_type": "display_data",
          "data": {
            "text/html": [
              "\n",
              "     <input type=\"file\" id=\"files-435bfed3-34b8-43c2-9811-ceca57d5889d\" name=\"files[]\" multiple disabled\n",
              "        style=\"border:none\" />\n",
              "     <output id=\"result-435bfed3-34b8-43c2-9811-ceca57d5889d\">\n",
              "      Upload widget is only available when the cell has been executed in the\n",
              "      current browser session. Please rerun this cell to enable.\n",
              "      </output>\n",
              "      <script src=\"/nbextensions/google.colab/files.js\"></script> "
            ],
            "text/plain": [
              "<IPython.core.display.HTML object>"
            ]
          },
          "metadata": {
            "tags": []
          }
        },
        {
          "output_type": "stream",
          "text": [
            "Saving covid19indo-all-bersih.csv to covid19indo-all-bersih (3).csv\n"
          ],
          "name": "stdout"
        }
      ]
    },
    {
      "cell_type": "code",
      "metadata": {
        "colab": {
          "base_uri": "https://localhost:8080/",
          "height": 817
        },
        "id": "SKSbX3fNSUmO",
        "outputId": "c3f79973-fb1e-4955-a4c3-0a04defb640d"
      },
      "source": [
        "df.head(15)"
      ],
      "execution_count": null,
      "outputs": [
        {
          "output_type": "execute_result",
          "data": {
            "text/html": [
              "<div>\n",
              "<style scoped>\n",
              "    .dataframe tbody tr th:only-of-type {\n",
              "        vertical-align: middle;\n",
              "    }\n",
              "\n",
              "    .dataframe tbody tr th {\n",
              "        vertical-align: top;\n",
              "    }\n",
              "\n",
              "    .dataframe thead th {\n",
              "        text-align: right;\n",
              "    }\n",
              "</style>\n",
              "<table border=\"1\" class=\"dataframe\">\n",
              "  <thead>\n",
              "    <tr style=\"text-align: right;\">\n",
              "      <th></th>\n",
              "      <th>Date</th>\n",
              "      <th>Meninggal (baru)</th>\n",
              "      <th>Sembuh (baru)</th>\n",
              "      <th>Total Kasus</th>\n",
              "      <th>Meninggal</th>\n",
              "      <th>Sembuh</th>\n",
              "      <th>Aktif</th>\n",
              "      <th>Kasus Baru</th>\n",
              "      <th>Persentase Spesimen Positif (Orang)</th>\n",
              "      <th>Persentase Penambahan Kasus</th>\n",
              "      <th>Suspek</th>\n",
              "      <th>Spesiment Baru (Orang)</th>\n",
              "      <th>Test (Orang)</th>\n",
              "      <th>Test (Spesimen)</th>\n",
              "      <th>Tingkat Kematian</th>\n",
              "      <th>Tingkat Kesembuhan</th>\n",
              "      <th>Persentase Aktif</th>\n",
              "    </tr>\n",
              "  </thead>\n",
              "  <tbody>\n",
              "    <tr>\n",
              "      <th>0</th>\n",
              "      <td>2020-03-02</td>\n",
              "      <td>0</td>\n",
              "      <td>0</td>\n",
              "      <td>2</td>\n",
              "      <td>0</td>\n",
              "      <td>0</td>\n",
              "      <td>2</td>\n",
              "      <td>2</td>\n",
              "      <td>0.000000</td>\n",
              "      <td>0.000000</td>\n",
              "      <td>0</td>\n",
              "      <td>0</td>\n",
              "      <td>0</td>\n",
              "      <td>0</td>\n",
              "      <td>0.000000</td>\n",
              "      <td>0.000000</td>\n",
              "      <td>1.000000</td>\n",
              "    </tr>\n",
              "    <tr>\n",
              "      <th>1</th>\n",
              "      <td>2020-03-03</td>\n",
              "      <td>0</td>\n",
              "      <td>0</td>\n",
              "      <td>2</td>\n",
              "      <td>0</td>\n",
              "      <td>0</td>\n",
              "      <td>2</td>\n",
              "      <td>0</td>\n",
              "      <td>0.000000</td>\n",
              "      <td>0.000000</td>\n",
              "      <td>0</td>\n",
              "      <td>2</td>\n",
              "      <td>2</td>\n",
              "      <td>0</td>\n",
              "      <td>0.000000</td>\n",
              "      <td>0.000000</td>\n",
              "      <td>1.000000</td>\n",
              "    </tr>\n",
              "    <tr>\n",
              "      <th>2</th>\n",
              "      <td>2020-03-04</td>\n",
              "      <td>0</td>\n",
              "      <td>0</td>\n",
              "      <td>2</td>\n",
              "      <td>0</td>\n",
              "      <td>0</td>\n",
              "      <td>2</td>\n",
              "      <td>0</td>\n",
              "      <td>0.000000</td>\n",
              "      <td>0.000000</td>\n",
              "      <td>0</td>\n",
              "      <td>31</td>\n",
              "      <td>31</td>\n",
              "      <td>0</td>\n",
              "      <td>0.000000</td>\n",
              "      <td>0.000000</td>\n",
              "      <td>1.000000</td>\n",
              "    </tr>\n",
              "    <tr>\n",
              "      <th>3</th>\n",
              "      <td>2020-03-05</td>\n",
              "      <td>0</td>\n",
              "      <td>0</td>\n",
              "      <td>2</td>\n",
              "      <td>0</td>\n",
              "      <td>0</td>\n",
              "      <td>2</td>\n",
              "      <td>0</td>\n",
              "      <td>0.000000</td>\n",
              "      <td>0.000000</td>\n",
              "      <td>0</td>\n",
              "      <td>16</td>\n",
              "      <td>16</td>\n",
              "      <td>0</td>\n",
              "      <td>0.000000</td>\n",
              "      <td>0.000000</td>\n",
              "      <td>1.000000</td>\n",
              "    </tr>\n",
              "    <tr>\n",
              "      <th>4</th>\n",
              "      <td>2020-03-06</td>\n",
              "      <td>0</td>\n",
              "      <td>0</td>\n",
              "      <td>4</td>\n",
              "      <td>0</td>\n",
              "      <td>0</td>\n",
              "      <td>4</td>\n",
              "      <td>2</td>\n",
              "      <td>0.032258</td>\n",
              "      <td>1.000000</td>\n",
              "      <td>0</td>\n",
              "      <td>62</td>\n",
              "      <td>62</td>\n",
              "      <td>0</td>\n",
              "      <td>0.000000</td>\n",
              "      <td>0.000000</td>\n",
              "      <td>1.000000</td>\n",
              "    </tr>\n",
              "    <tr>\n",
              "      <th>5</th>\n",
              "      <td>2020-03-07</td>\n",
              "      <td>0</td>\n",
              "      <td>0</td>\n",
              "      <td>4</td>\n",
              "      <td>0</td>\n",
              "      <td>0</td>\n",
              "      <td>4</td>\n",
              "      <td>0</td>\n",
              "      <td>0.000000</td>\n",
              "      <td>0.000000</td>\n",
              "      <td>0</td>\n",
              "      <td>4</td>\n",
              "      <td>4</td>\n",
              "      <td>0</td>\n",
              "      <td>0.000000</td>\n",
              "      <td>0.000000</td>\n",
              "      <td>1.000000</td>\n",
              "    </tr>\n",
              "    <tr>\n",
              "      <th>6</th>\n",
              "      <td>2020-03-08</td>\n",
              "      <td>0</td>\n",
              "      <td>0</td>\n",
              "      <td>6</td>\n",
              "      <td>0</td>\n",
              "      <td>0</td>\n",
              "      <td>6</td>\n",
              "      <td>2</td>\n",
              "      <td>0.068966</td>\n",
              "      <td>0.500000</td>\n",
              "      <td>0</td>\n",
              "      <td>29</td>\n",
              "      <td>29</td>\n",
              "      <td>0</td>\n",
              "      <td>0.000000</td>\n",
              "      <td>0.000000</td>\n",
              "      <td>1.000000</td>\n",
              "    </tr>\n",
              "    <tr>\n",
              "      <th>7</th>\n",
              "      <td>2020-03-09</td>\n",
              "      <td>0</td>\n",
              "      <td>0</td>\n",
              "      <td>19</td>\n",
              "      <td>0</td>\n",
              "      <td>0</td>\n",
              "      <td>19</td>\n",
              "      <td>13</td>\n",
              "      <td>0.216667</td>\n",
              "      <td>2.166667</td>\n",
              "      <td>0</td>\n",
              "      <td>60</td>\n",
              "      <td>60</td>\n",
              "      <td>0</td>\n",
              "      <td>0.000000</td>\n",
              "      <td>0.000000</td>\n",
              "      <td>1.000000</td>\n",
              "    </tr>\n",
              "    <tr>\n",
              "      <th>8</th>\n",
              "      <td>2020-03-10</td>\n",
              "      <td>0</td>\n",
              "      <td>0</td>\n",
              "      <td>27</td>\n",
              "      <td>0</td>\n",
              "      <td>0</td>\n",
              "      <td>27</td>\n",
              "      <td>8</td>\n",
              "      <td>0.052980</td>\n",
              "      <td>0.421053</td>\n",
              "      <td>0</td>\n",
              "      <td>151</td>\n",
              "      <td>151</td>\n",
              "      <td>0</td>\n",
              "      <td>0.000000</td>\n",
              "      <td>0.000000</td>\n",
              "      <td>1.000000</td>\n",
              "    </tr>\n",
              "    <tr>\n",
              "      <th>9</th>\n",
              "      <td>2020-03-11</td>\n",
              "      <td>2</td>\n",
              "      <td>2</td>\n",
              "      <td>34</td>\n",
              "      <td>2</td>\n",
              "      <td>2</td>\n",
              "      <td>30</td>\n",
              "      <td>7</td>\n",
              "      <td>0.070707</td>\n",
              "      <td>0.259259</td>\n",
              "      <td>0</td>\n",
              "      <td>99</td>\n",
              "      <td>99</td>\n",
              "      <td>0</td>\n",
              "      <td>0.058824</td>\n",
              "      <td>0.058824</td>\n",
              "      <td>0.882353</td>\n",
              "    </tr>\n",
              "    <tr>\n",
              "      <th>10</th>\n",
              "      <td>2020-03-12</td>\n",
              "      <td>2</td>\n",
              "      <td>1</td>\n",
              "      <td>34</td>\n",
              "      <td>4</td>\n",
              "      <td>3</td>\n",
              "      <td>27</td>\n",
              "      <td>0</td>\n",
              "      <td>0.000000</td>\n",
              "      <td>0.000000</td>\n",
              "      <td>0</td>\n",
              "      <td>69</td>\n",
              "      <td>69</td>\n",
              "      <td>0</td>\n",
              "      <td>0.117647</td>\n",
              "      <td>0.088235</td>\n",
              "      <td>0.794118</td>\n",
              "    </tr>\n",
              "    <tr>\n",
              "      <th>11</th>\n",
              "      <td>2020-03-13</td>\n",
              "      <td>0</td>\n",
              "      <td>2</td>\n",
              "      <td>69</td>\n",
              "      <td>4</td>\n",
              "      <td>5</td>\n",
              "      <td>60</td>\n",
              "      <td>35</td>\n",
              "      <td>0.244755</td>\n",
              "      <td>1.029412</td>\n",
              "      <td>0</td>\n",
              "      <td>143</td>\n",
              "      <td>143</td>\n",
              "      <td>0</td>\n",
              "      <td>0.057971</td>\n",
              "      <td>0.072464</td>\n",
              "      <td>0.869565</td>\n",
              "    </tr>\n",
              "    <tr>\n",
              "      <th>12</th>\n",
              "      <td>2020-03-14</td>\n",
              "      <td>1</td>\n",
              "      <td>3</td>\n",
              "      <td>96</td>\n",
              "      <td>5</td>\n",
              "      <td>8</td>\n",
              "      <td>83</td>\n",
              "      <td>27</td>\n",
              "      <td>0.135000</td>\n",
              "      <td>0.391304</td>\n",
              "      <td>0</td>\n",
              "      <td>200</td>\n",
              "      <td>200</td>\n",
              "      <td>0</td>\n",
              "      <td>0.052083</td>\n",
              "      <td>0.083333</td>\n",
              "      <td>0.864583</td>\n",
              "    </tr>\n",
              "    <tr>\n",
              "      <th>13</th>\n",
              "      <td>2020-03-15</td>\n",
              "      <td>0</td>\n",
              "      <td>0</td>\n",
              "      <td>117</td>\n",
              "      <td>5</td>\n",
              "      <td>8</td>\n",
              "      <td>104</td>\n",
              "      <td>21</td>\n",
              "      <td>0.238636</td>\n",
              "      <td>0.218750</td>\n",
              "      <td>0</td>\n",
              "      <td>88</td>\n",
              "      <td>88</td>\n",
              "      <td>0</td>\n",
              "      <td>0.042735</td>\n",
              "      <td>0.068376</td>\n",
              "      <td>0.888889</td>\n",
              "    </tr>\n",
              "    <tr>\n",
              "      <th>14</th>\n",
              "      <td>2020-03-16</td>\n",
              "      <td>0</td>\n",
              "      <td>0</td>\n",
              "      <td>134</td>\n",
              "      <td>5</td>\n",
              "      <td>8</td>\n",
              "      <td>121</td>\n",
              "      <td>17</td>\n",
              "      <td>-0.269841</td>\n",
              "      <td>0.145299</td>\n",
              "      <td>0</td>\n",
              "      <td>-63</td>\n",
              "      <td>-63</td>\n",
              "      <td>0</td>\n",
              "      <td>0.037313</td>\n",
              "      <td>0.059701</td>\n",
              "      <td>0.902985</td>\n",
              "    </tr>\n",
              "  </tbody>\n",
              "</table>\n",
              "</div>"
            ],
            "text/plain": [
              "          Date  Meninggal (baru)  ...  Tingkat Kesembuhan  Persentase Aktif\n",
              "0   2020-03-02                 0  ...            0.000000          1.000000\n",
              "1   2020-03-03                 0  ...            0.000000          1.000000\n",
              "2   2020-03-04                 0  ...            0.000000          1.000000\n",
              "3   2020-03-05                 0  ...            0.000000          1.000000\n",
              "4   2020-03-06                 0  ...            0.000000          1.000000\n",
              "5   2020-03-07                 0  ...            0.000000          1.000000\n",
              "6   2020-03-08                 0  ...            0.000000          1.000000\n",
              "7   2020-03-09                 0  ...            0.000000          1.000000\n",
              "8   2020-03-10                 0  ...            0.000000          1.000000\n",
              "9   2020-03-11                 2  ...            0.058824          0.882353\n",
              "10  2020-03-12                 2  ...            0.088235          0.794118\n",
              "11  2020-03-13                 0  ...            0.072464          0.869565\n",
              "12  2020-03-14                 1  ...            0.083333          0.864583\n",
              "13  2020-03-15                 0  ...            0.068376          0.888889\n",
              "14  2020-03-16                 0  ...            0.059701          0.902985\n",
              "\n",
              "[15 rows x 17 columns]"
            ]
          },
          "metadata": {
            "tags": []
          },
          "execution_count": 107
        }
      ]
    },
    {
      "cell_type": "code",
      "metadata": {
        "colab": {
          "base_uri": "https://localhost:8080/"
        },
        "id": "m4pE9hjFUpp0",
        "outputId": "db29bbad-7ba2-4852-c2c2-76bfd56b6e7b"
      },
      "source": [
        "df.info()"
      ],
      "execution_count": null,
      "outputs": [
        {
          "output_type": "stream",
          "text": [
            "<class 'pandas.core.frame.DataFrame'>\n",
            "RangeIndex: 231 entries, 0 to 230\n",
            "Data columns (total 17 columns):\n",
            " #   Column                               Non-Null Count  Dtype  \n",
            "---  ------                               --------------  -----  \n",
            " 0   Date                                 231 non-null    object \n",
            " 1   Meninggal (baru)                     231 non-null    int64  \n",
            " 2   Sembuh (baru)                        231 non-null    int64  \n",
            " 3   Total Kasus                          231 non-null    int64  \n",
            " 4   Meninggal                            231 non-null    int64  \n",
            " 5   Sembuh                               231 non-null    int64  \n",
            " 6   Aktif                                231 non-null    int64  \n",
            " 7   Kasus Baru                           231 non-null    int64  \n",
            " 8   Persentase Spesimen Positif (Orang)  231 non-null    float64\n",
            " 9   Persentase Penambahan Kasus          231 non-null    float64\n",
            " 10  Suspek                               231 non-null    int64  \n",
            " 11  Spesiment Baru (Orang)               231 non-null    int64  \n",
            " 12  Test (Orang)                         231 non-null    int64  \n",
            " 13  Test (Spesimen)                      231 non-null    int64  \n",
            " 14  Tingkat Kematian                     231 non-null    float64\n",
            " 15  Tingkat Kesembuhan                   231 non-null    float64\n",
            " 16  Persentase Aktif                     231 non-null    float64\n",
            "dtypes: float64(5), int64(11), object(1)\n",
            "memory usage: 30.8+ KB\n"
          ],
          "name": "stdout"
        }
      ]
    },
    {
      "cell_type": "code",
      "metadata": {
        "colab": {
          "base_uri": "https://localhost:8080/"
        },
        "id": "uCk8cbBDXzR_",
        "outputId": "f2fe108b-9539-426e-cf88-3da75b91f97d"
      },
      "source": [
        "pip install fbprophet"
      ],
      "execution_count": null,
      "outputs": [
        {
          "output_type": "stream",
          "text": [
            "Requirement already satisfied: fbprophet in /usr/local/lib/python3.6/dist-packages (0.7.1)\n",
            "Requirement already satisfied: Cython>=0.22 in /usr/local/lib/python3.6/dist-packages (from fbprophet) (0.29.21)\n",
            "Requirement already satisfied: cmdstanpy==0.9.5 in /usr/local/lib/python3.6/dist-packages (from fbprophet) (0.9.5)\n",
            "Requirement already satisfied: pystan>=2.14 in /usr/local/lib/python3.6/dist-packages (from fbprophet) (2.19.1.1)\n",
            "Requirement already satisfied: numpy>=1.15.4 in /usr/local/lib/python3.6/dist-packages (from fbprophet) (1.19.5)\n",
            "Requirement already satisfied: pandas>=1.0.4 in /usr/local/lib/python3.6/dist-packages (from fbprophet) (1.1.5)\n",
            "Requirement already satisfied: matplotlib>=2.0.0 in /usr/local/lib/python3.6/dist-packages (from fbprophet) (3.2.2)\n",
            "Requirement already satisfied: LunarCalendar>=0.0.9 in /usr/local/lib/python3.6/dist-packages (from fbprophet) (0.0.9)\n",
            "Requirement already satisfied: convertdate>=2.1.2 in /usr/local/lib/python3.6/dist-packages (from fbprophet) (2.2.0)\n",
            "Requirement already satisfied: holidays>=0.10.2 in /usr/local/lib/python3.6/dist-packages (from fbprophet) (0.10.4)\n",
            "Requirement already satisfied: setuptools-git>=1.2 in /usr/local/lib/python3.6/dist-packages (from fbprophet) (1.2)\n",
            "Requirement already satisfied: python-dateutil>=2.8.0 in /usr/local/lib/python3.6/dist-packages (from fbprophet) (2.8.1)\n",
            "Requirement already satisfied: tqdm>=4.36.1 in /usr/local/lib/python3.6/dist-packages (from fbprophet) (4.41.1)\n",
            "Requirement already satisfied: pytz>=2017.2 in /usr/local/lib/python3.6/dist-packages (from pandas>=1.0.4->fbprophet) (2018.9)\n",
            "Requirement already satisfied: cycler>=0.10 in /usr/local/lib/python3.6/dist-packages (from matplotlib>=2.0.0->fbprophet) (0.10.0)\n",
            "Requirement already satisfied: pyparsing!=2.0.4,!=2.1.2,!=2.1.6,>=2.0.1 in /usr/local/lib/python3.6/dist-packages (from matplotlib>=2.0.0->fbprophet) (2.4.7)\n",
            "Requirement already satisfied: kiwisolver>=1.0.1 in /usr/local/lib/python3.6/dist-packages (from matplotlib>=2.0.0->fbprophet) (1.3.1)\n",
            "Requirement already satisfied: ephem>=3.7.5.3 in /usr/local/lib/python3.6/dist-packages (from LunarCalendar>=0.0.9->fbprophet) (3.7.7.1)\n",
            "Requirement already satisfied: pymeeus<=1,>=0.3.6 in /usr/local/lib/python3.6/dist-packages (from convertdate>=2.1.2->fbprophet) (0.3.7)\n",
            "Requirement already satisfied: six in /usr/local/lib/python3.6/dist-packages (from holidays>=0.10.2->fbprophet) (1.15.0)\n",
            "Requirement already satisfied: korean-lunar-calendar in /usr/local/lib/python3.6/dist-packages (from holidays>=0.10.2->fbprophet) (0.2.1)\n"
          ],
          "name": "stdout"
        }
      ]
    },
    {
      "cell_type": "code",
      "metadata": {
        "colab": {
          "base_uri": "https://localhost:8080/"
        },
        "id": "ZtEk_IhbNWDV",
        "outputId": "907ab787-5d3c-4712-dad6-5fef7fc03d3b"
      },
      "source": [
        "pip install dask"
      ],
      "execution_count": null,
      "outputs": [
        {
          "output_type": "stream",
          "text": [
            "Requirement already satisfied: dask in /usr/local/lib/python3.6/dist-packages (2.12.0)\n"
          ],
          "name": "stdout"
        }
      ]
    },
    {
      "cell_type": "code",
      "metadata": {
        "colab": {
          "base_uri": "https://localhost:8080/"
        },
        "id": "v65YYG0xNZsW",
        "outputId": "833ea79d-9e05-4f2f-ee35-4bf544990886"
      },
      "source": [
        "pip install \"dask[complete]\""
      ],
      "execution_count": null,
      "outputs": [
        {
          "output_type": "stream",
          "text": [
            "Requirement already satisfied: dask[complete] in /usr/local/lib/python3.6/dist-packages (2.12.0)\n",
            "Requirement already satisfied: PyYaml; extra == \"complete\" in /usr/local/lib/python3.6/dist-packages (from dask[complete]) (3.13)\n",
            "Requirement already satisfied: numpy>=1.13.0; extra == \"complete\" in /usr/local/lib/python3.6/dist-packages (from dask[complete]) (1.19.5)\n",
            "Requirement already satisfied: partd>=0.3.10; extra == \"complete\" in /usr/local/lib/python3.6/dist-packages (from dask[complete]) (1.1.0)\n",
            "Requirement already satisfied: bokeh>=1.0.0; extra == \"complete\" in /usr/local/lib/python3.6/dist-packages (from dask[complete]) (2.1.1)\n",
            "Requirement already satisfied: fsspec>=0.6.0; extra == \"complete\" in /usr/local/lib/python3.6/dist-packages (from dask[complete]) (0.8.5)\n",
            "Requirement already satisfied: distributed>=2.0; extra == \"complete\" in /usr/local/lib/python3.6/dist-packages (from dask[complete]) (2021.1.1)\n",
            "Requirement already satisfied: pandas>=0.23.0; extra == \"complete\" in /usr/local/lib/python3.6/dist-packages (from dask[complete]) (1.1.5)\n",
            "Requirement already satisfied: toolz>=0.7.3; extra == \"complete\" in /usr/local/lib/python3.6/dist-packages (from dask[complete]) (0.11.1)\n",
            "Requirement already satisfied: cloudpickle>=0.2.1; extra == \"complete\" in /usr/local/lib/python3.6/dist-packages (from dask[complete]) (1.3.0)\n",
            "Requirement already satisfied: locket in /usr/local/lib/python3.6/dist-packages (from partd>=0.3.10; extra == \"complete\"->dask[complete]) (0.2.1)\n",
            "Requirement already satisfied: tornado>=5.1 in /usr/local/lib/python3.6/dist-packages (from bokeh>=1.0.0; extra == \"complete\"->dask[complete]) (5.1.1)\n",
            "Requirement already satisfied: packaging>=16.8 in /usr/local/lib/python3.6/dist-packages (from bokeh>=1.0.0; extra == \"complete\"->dask[complete]) (20.8)\n",
            "Requirement already satisfied: Jinja2>=2.7 in /usr/local/lib/python3.6/dist-packages (from bokeh>=1.0.0; extra == \"complete\"->dask[complete]) (2.11.2)\n",
            "Requirement already satisfied: python-dateutil>=2.1 in /usr/local/lib/python3.6/dist-packages (from bokeh>=1.0.0; extra == \"complete\"->dask[complete]) (2.8.1)\n",
            "Requirement already satisfied: pillow>=4.0 in /usr/local/lib/python3.6/dist-packages (from bokeh>=1.0.0; extra == \"complete\"->dask[complete]) (7.0.0)\n",
            "Requirement already satisfied: typing-extensions>=3.7.4 in /usr/local/lib/python3.6/dist-packages (from bokeh>=1.0.0; extra == \"complete\"->dask[complete]) (3.7.4.3)\n",
            "Requirement already satisfied: setuptools in /usr/local/lib/python3.6/dist-packages (from distributed>=2.0; extra == \"complete\"->dask[complete]) (51.3.3)\n",
            "Requirement already satisfied: psutil>=5.0 in /usr/local/lib/python3.6/dist-packages (from distributed>=2.0; extra == \"complete\"->dask[complete]) (5.4.8)\n",
            "Requirement already satisfied: contextvars; python_version < \"3.7\" in /usr/local/lib/python3.6/dist-packages (from distributed>=2.0; extra == \"complete\"->dask[complete]) (2.4)\n",
            "Requirement already satisfied: click>=6.6 in /usr/local/lib/python3.6/dist-packages (from distributed>=2.0; extra == \"complete\"->dask[complete]) (7.1.2)\n",
            "Requirement already satisfied: msgpack>=0.6.0 in /usr/local/lib/python3.6/dist-packages (from distributed>=2.0; extra == \"complete\"->dask[complete]) (1.0.2)\n",
            "Requirement already satisfied: sortedcontainers!=2.0.0,!=2.0.1 in /usr/local/lib/python3.6/dist-packages (from distributed>=2.0; extra == \"complete\"->dask[complete]) (2.3.0)\n",
            "Requirement already satisfied: tblib>=1.6.0 in /usr/local/lib/python3.6/dist-packages (from distributed>=2.0; extra == \"complete\"->dask[complete]) (1.7.0)\n",
            "Requirement already satisfied: zict>=0.1.3 in /usr/local/lib/python3.6/dist-packages (from distributed>=2.0; extra == \"complete\"->dask[complete]) (2.0.0)\n",
            "Requirement already satisfied: pytz>=2017.2 in /usr/local/lib/python3.6/dist-packages (from pandas>=0.23.0; extra == \"complete\"->dask[complete]) (2018.9)\n",
            "Requirement already satisfied: pyparsing>=2.0.2 in /usr/local/lib/python3.6/dist-packages (from packaging>=16.8->bokeh>=1.0.0; extra == \"complete\"->dask[complete]) (2.4.7)\n",
            "Requirement already satisfied: MarkupSafe>=0.23 in /usr/local/lib/python3.6/dist-packages (from Jinja2>=2.7->bokeh>=1.0.0; extra == \"complete\"->dask[complete]) (1.1.1)\n",
            "Requirement already satisfied: six>=1.5 in /usr/local/lib/python3.6/dist-packages (from python-dateutil>=2.1->bokeh>=1.0.0; extra == \"complete\"->dask[complete]) (1.15.0)\n",
            "Requirement already satisfied: immutables>=0.9 in /usr/local/lib/python3.6/dist-packages (from contextvars; python_version < \"3.7\"->distributed>=2.0; extra == \"complete\"->dask[complete]) (0.14)\n",
            "Requirement already satisfied: heapdict in /usr/local/lib/python3.6/dist-packages (from zict>=0.1.3->distributed>=2.0; extra == \"complete\"->dask[complete]) (1.0.1)\n"
          ],
          "name": "stdout"
        }
      ]
    },
    {
      "cell_type": "code",
      "metadata": {
        "id": "AO0mTwre0Qgz"
      },
      "source": [
        "from warnings import simplefilter\n",
        "simplefilter (action ='ignore', category=FutureWarning)\n",
        "\n",
        "import dask.dataframe as dd\n",
        "import dask.array as da\n",
        "\n",
        "import pandas as pd\n",
        "import numpy as np\n",
        "import matplotlib.pyplot as plt\n",
        "%matplotlib inline\n",
        "from sklearn.metrics import r2_score"
      ],
      "execution_count": null,
      "outputs": []
    },
    {
      "cell_type": "code",
      "metadata": {
        "colab": {
          "base_uri": "https://localhost:8080/",
          "height": 797
        },
        "id": "_DPHnyg21Ahv",
        "outputId": "a9a24339-1718-432f-82b0-261f9048772f"
      },
      "source": [
        "df.corr()"
      ],
      "execution_count": null,
      "outputs": [
        {
          "output_type": "execute_result",
          "data": {
            "text/html": [
              "<div>\n",
              "<style scoped>\n",
              "    .dataframe tbody tr th:only-of-type {\n",
              "        vertical-align: middle;\n",
              "    }\n",
              "\n",
              "    .dataframe tbody tr th {\n",
              "        vertical-align: top;\n",
              "    }\n",
              "\n",
              "    .dataframe thead th {\n",
              "        text-align: right;\n",
              "    }\n",
              "</style>\n",
              "<table border=\"1\" class=\"dataframe\">\n",
              "  <thead>\n",
              "    <tr style=\"text-align: right;\">\n",
              "      <th></th>\n",
              "      <th>Meninggal (baru)</th>\n",
              "      <th>Sembuh (baru)</th>\n",
              "      <th>Total Kasus</th>\n",
              "      <th>Meninggal</th>\n",
              "      <th>Sembuh</th>\n",
              "      <th>Aktif</th>\n",
              "      <th>Kasus Baru</th>\n",
              "      <th>Persentase Spesimen Positif (Orang)</th>\n",
              "      <th>Persentase Penambahan Kasus</th>\n",
              "      <th>Suspek</th>\n",
              "      <th>Spesiment Baru (Orang)</th>\n",
              "      <th>Test (Orang)</th>\n",
              "      <th>Test (Spesimen)</th>\n",
              "      <th>Tingkat Kematian</th>\n",
              "      <th>Tingkat Kesembuhan</th>\n",
              "      <th>Persentase Aktif</th>\n",
              "    </tr>\n",
              "  </thead>\n",
              "  <tbody>\n",
              "    <tr>\n",
              "      <th>Meninggal (baru)</th>\n",
              "      <td>1.000000</td>\n",
              "      <td>0.864443</td>\n",
              "      <td>0.833765</td>\n",
              "      <td>0.869843</td>\n",
              "      <td>0.800704</td>\n",
              "      <td>0.896188</td>\n",
              "      <td>0.888703</td>\n",
              "      <td>-0.078718</td>\n",
              "      <td>-0.309134</td>\n",
              "      <td>0.087477</td>\n",
              "      <td>0.869629</td>\n",
              "      <td>0.869629</td>\n",
              "      <td>0.878245</td>\n",
              "      <td>-0.468186</td>\n",
              "      <td>0.892767</td>\n",
              "      <td>-0.893097</td>\n",
              "    </tr>\n",
              "    <tr>\n",
              "      <th>Sembuh (baru)</th>\n",
              "      <td>0.864443</td>\n",
              "      <td>1.000000</td>\n",
              "      <td>0.968957</td>\n",
              "      <td>0.970892</td>\n",
              "      <td>0.959350</td>\n",
              "      <td>0.938764</td>\n",
              "      <td>0.950049</td>\n",
              "      <td>-0.067243</td>\n",
              "      <td>-0.234733</td>\n",
              "      <td>0.144525</td>\n",
              "      <td>0.936229</td>\n",
              "      <td>0.936229</td>\n",
              "      <td>0.905976</td>\n",
              "      <td>-0.546449</td>\n",
              "      <td>0.893176</td>\n",
              "      <td>-0.887150</td>\n",
              "    </tr>\n",
              "    <tr>\n",
              "      <th>Total Kasus</th>\n",
              "      <td>0.833765</td>\n",
              "      <td>0.968957</td>\n",
              "      <td>1.000000</td>\n",
              "      <td>0.993412</td>\n",
              "      <td>0.996086</td>\n",
              "      <td>0.947489</td>\n",
              "      <td>0.969245</td>\n",
              "      <td>-0.050001</td>\n",
              "      <td>-0.230682</td>\n",
              "      <td>0.177889</td>\n",
              "      <td>0.937457</td>\n",
              "      <td>0.937457</td>\n",
              "      <td>0.903958</td>\n",
              "      <td>-0.543666</td>\n",
              "      <td>0.888576</td>\n",
              "      <td>-0.882578</td>\n",
              "    </tr>\n",
              "    <tr>\n",
              "      <th>Meninggal</th>\n",
              "      <td>0.869843</td>\n",
              "      <td>0.970892</td>\n",
              "      <td>0.993412</td>\n",
              "      <td>1.000000</td>\n",
              "      <td>0.980865</td>\n",
              "      <td>0.971921</td>\n",
              "      <td>0.978850</td>\n",
              "      <td>-0.063413</td>\n",
              "      <td>-0.261406</td>\n",
              "      <td>0.168844</td>\n",
              "      <td>0.943660</td>\n",
              "      <td>0.943660</td>\n",
              "      <td>0.928058</td>\n",
              "      <td>-0.558299</td>\n",
              "      <td>0.933506</td>\n",
              "      <td>-0.928253</td>\n",
              "    </tr>\n",
              "    <tr>\n",
              "      <th>Sembuh</th>\n",
              "      <td>0.800704</td>\n",
              "      <td>0.959350</td>\n",
              "      <td>0.996086</td>\n",
              "      <td>0.980865</td>\n",
              "      <td>1.000000</td>\n",
              "      <td>0.915532</td>\n",
              "      <td>0.953059</td>\n",
              "      <td>-0.033804</td>\n",
              "      <td>-0.203000</td>\n",
              "      <td>0.185363</td>\n",
              "      <td>0.919727</td>\n",
              "      <td>0.919727</td>\n",
              "      <td>0.872918</td>\n",
              "      <td>-0.525038</td>\n",
              "      <td>0.849248</td>\n",
              "      <td>-0.843074</td>\n",
              "    </tr>\n",
              "    <tr>\n",
              "      <th>Aktif</th>\n",
              "      <td>0.896188</td>\n",
              "      <td>0.938764</td>\n",
              "      <td>0.947489</td>\n",
              "      <td>0.971921</td>\n",
              "      <td>0.915532</td>\n",
              "      <td>1.000000</td>\n",
              "      <td>0.962751</td>\n",
              "      <td>-0.105959</td>\n",
              "      <td>-0.314939</td>\n",
              "      <td>0.138790</td>\n",
              "      <td>0.939652</td>\n",
              "      <td>0.939652</td>\n",
              "      <td>0.956013</td>\n",
              "      <td>-0.574796</td>\n",
              "      <td>0.969549</td>\n",
              "      <td>-0.964505</td>\n",
              "    </tr>\n",
              "    <tr>\n",
              "      <th>Kasus Baru</th>\n",
              "      <td>0.888703</td>\n",
              "      <td>0.950049</td>\n",
              "      <td>0.969245</td>\n",
              "      <td>0.978850</td>\n",
              "      <td>0.953059</td>\n",
              "      <td>0.962751</td>\n",
              "      <td>1.000000</td>\n",
              "      <td>-0.049247</td>\n",
              "      <td>-0.263911</td>\n",
              "      <td>0.154198</td>\n",
              "      <td>0.944483</td>\n",
              "      <td>0.944483</td>\n",
              "      <td>0.946024</td>\n",
              "      <td>-0.542121</td>\n",
              "      <td>0.917192</td>\n",
              "      <td>-0.912554</td>\n",
              "    </tr>\n",
              "    <tr>\n",
              "      <th>Persentase Spesimen Positif (Orang)</th>\n",
              "      <td>-0.078718</td>\n",
              "      <td>-0.067243</td>\n",
              "      <td>-0.050001</td>\n",
              "      <td>-0.063413</td>\n",
              "      <td>-0.033804</td>\n",
              "      <td>-0.105959</td>\n",
              "      <td>-0.049247</td>\n",
              "      <td>1.000000</td>\n",
              "      <td>0.088071</td>\n",
              "      <td>-0.181485</td>\n",
              "      <td>-0.151228</td>\n",
              "      <td>-0.151228</td>\n",
              "      <td>-0.119721</td>\n",
              "      <td>0.333150</td>\n",
              "      <td>-0.106432</td>\n",
              "      <td>0.083889</td>\n",
              "    </tr>\n",
              "    <tr>\n",
              "      <th>Persentase Penambahan Kasus</th>\n",
              "      <td>-0.309134</td>\n",
              "      <td>-0.234733</td>\n",
              "      <td>-0.230682</td>\n",
              "      <td>-0.261406</td>\n",
              "      <td>-0.203000</td>\n",
              "      <td>-0.314939</td>\n",
              "      <td>-0.263911</td>\n",
              "      <td>0.088071</td>\n",
              "      <td>1.000000</td>\n",
              "      <td>-0.229759</td>\n",
              "      <td>-0.274157</td>\n",
              "      <td>-0.274157</td>\n",
              "      <td>-0.297131</td>\n",
              "      <td>-0.122561</td>\n",
              "      <td>-0.340878</td>\n",
              "      <td>0.365539</td>\n",
              "    </tr>\n",
              "    <tr>\n",
              "      <th>Suspek</th>\n",
              "      <td>0.087477</td>\n",
              "      <td>0.144525</td>\n",
              "      <td>0.177889</td>\n",
              "      <td>0.168844</td>\n",
              "      <td>0.185363</td>\n",
              "      <td>0.138790</td>\n",
              "      <td>0.154198</td>\n",
              "      <td>-0.181485</td>\n",
              "      <td>-0.229759</td>\n",
              "      <td>1.000000</td>\n",
              "      <td>0.169819</td>\n",
              "      <td>0.169819</td>\n",
              "      <td>0.123508</td>\n",
              "      <td>0.152312</td>\n",
              "      <td>0.108553</td>\n",
              "      <td>-0.125631</td>\n",
              "    </tr>\n",
              "    <tr>\n",
              "      <th>Spesiment Baru (Orang)</th>\n",
              "      <td>0.869629</td>\n",
              "      <td>0.936229</td>\n",
              "      <td>0.937457</td>\n",
              "      <td>0.943660</td>\n",
              "      <td>0.919727</td>\n",
              "      <td>0.939652</td>\n",
              "      <td>0.944483</td>\n",
              "      <td>-0.151228</td>\n",
              "      <td>-0.274157</td>\n",
              "      <td>0.169819</td>\n",
              "      <td>1.000000</td>\n",
              "      <td>1.000000</td>\n",
              "      <td>0.936226</td>\n",
              "      <td>-0.524588</td>\n",
              "      <td>0.885608</td>\n",
              "      <td>-0.881037</td>\n",
              "    </tr>\n",
              "    <tr>\n",
              "      <th>Test (Orang)</th>\n",
              "      <td>0.869629</td>\n",
              "      <td>0.936229</td>\n",
              "      <td>0.937457</td>\n",
              "      <td>0.943660</td>\n",
              "      <td>0.919727</td>\n",
              "      <td>0.939652</td>\n",
              "      <td>0.944483</td>\n",
              "      <td>-0.151228</td>\n",
              "      <td>-0.274157</td>\n",
              "      <td>0.169819</td>\n",
              "      <td>1.000000</td>\n",
              "      <td>1.000000</td>\n",
              "      <td>0.936226</td>\n",
              "      <td>-0.524588</td>\n",
              "      <td>0.885608</td>\n",
              "      <td>-0.881037</td>\n",
              "    </tr>\n",
              "    <tr>\n",
              "      <th>Test (Spesimen)</th>\n",
              "      <td>0.878245</td>\n",
              "      <td>0.905976</td>\n",
              "      <td>0.903958</td>\n",
              "      <td>0.928058</td>\n",
              "      <td>0.872918</td>\n",
              "      <td>0.956013</td>\n",
              "      <td>0.946024</td>\n",
              "      <td>-0.119721</td>\n",
              "      <td>-0.297131</td>\n",
              "      <td>0.123508</td>\n",
              "      <td>0.936226</td>\n",
              "      <td>0.936226</td>\n",
              "      <td>1.000000</td>\n",
              "      <td>-0.559675</td>\n",
              "      <td>0.927548</td>\n",
              "      <td>-0.921926</td>\n",
              "    </tr>\n",
              "    <tr>\n",
              "      <th>Tingkat Kematian</th>\n",
              "      <td>-0.468186</td>\n",
              "      <td>-0.546449</td>\n",
              "      <td>-0.543666</td>\n",
              "      <td>-0.558299</td>\n",
              "      <td>-0.525038</td>\n",
              "      <td>-0.574796</td>\n",
              "      <td>-0.542121</td>\n",
              "      <td>0.333150</td>\n",
              "      <td>-0.122561</td>\n",
              "      <td>0.152312</td>\n",
              "      <td>-0.524588</td>\n",
              "      <td>-0.524588</td>\n",
              "      <td>-0.559675</td>\n",
              "      <td>1.000000</td>\n",
              "      <td>-0.557063</td>\n",
              "      <td>0.499630</td>\n",
              "    </tr>\n",
              "    <tr>\n",
              "      <th>Tingkat Kesembuhan</th>\n",
              "      <td>0.892767</td>\n",
              "      <td>0.893176</td>\n",
              "      <td>0.888576</td>\n",
              "      <td>0.933506</td>\n",
              "      <td>0.849248</td>\n",
              "      <td>0.969549</td>\n",
              "      <td>0.917192</td>\n",
              "      <td>-0.106432</td>\n",
              "      <td>-0.340878</td>\n",
              "      <td>0.108553</td>\n",
              "      <td>0.885608</td>\n",
              "      <td>0.885608</td>\n",
              "      <td>0.927548</td>\n",
              "      <td>-0.557063</td>\n",
              "      <td>1.000000</td>\n",
              "      <td>-0.997711</td>\n",
              "    </tr>\n",
              "    <tr>\n",
              "      <th>Persentase Aktif</th>\n",
              "      <td>-0.893097</td>\n",
              "      <td>-0.887150</td>\n",
              "      <td>-0.882578</td>\n",
              "      <td>-0.928253</td>\n",
              "      <td>-0.843074</td>\n",
              "      <td>-0.964505</td>\n",
              "      <td>-0.912554</td>\n",
              "      <td>0.083889</td>\n",
              "      <td>0.365539</td>\n",
              "      <td>-0.125631</td>\n",
              "      <td>-0.881037</td>\n",
              "      <td>-0.881037</td>\n",
              "      <td>-0.921926</td>\n",
              "      <td>0.499630</td>\n",
              "      <td>-0.997711</td>\n",
              "      <td>1.000000</td>\n",
              "    </tr>\n",
              "  </tbody>\n",
              "</table>\n",
              "</div>"
            ],
            "text/plain": [
              "                                     Meninggal (baru)  ...  Persentase Aktif\n",
              "Meninggal (baru)                             1.000000  ...         -0.893097\n",
              "Sembuh (baru)                                0.864443  ...         -0.887150\n",
              "Total Kasus                                  0.833765  ...         -0.882578\n",
              "Meninggal                                    0.869843  ...         -0.928253\n",
              "Sembuh                                       0.800704  ...         -0.843074\n",
              "Aktif                                        0.896188  ...         -0.964505\n",
              "Kasus Baru                                   0.888703  ...         -0.912554\n",
              "Persentase Spesimen Positif (Orang)         -0.078718  ...          0.083889\n",
              "Persentase Penambahan Kasus                 -0.309134  ...          0.365539\n",
              "Suspek                                       0.087477  ...         -0.125631\n",
              "Spesiment Baru (Orang)                       0.869629  ...         -0.881037\n",
              "Test (Orang)                                 0.869629  ...         -0.881037\n",
              "Test (Spesimen)                              0.878245  ...         -0.921926\n",
              "Tingkat Kematian                            -0.468186  ...          0.499630\n",
              "Tingkat Kesembuhan                           0.892767  ...         -0.997711\n",
              "Persentase Aktif                            -0.893097  ...          1.000000\n",
              "\n",
              "[16 rows x 16 columns]"
            ]
          },
          "metadata": {
            "tags": []
          },
          "execution_count": 112
        }
      ]
    },
    {
      "cell_type": "code",
      "metadata": {
        "colab": {
          "base_uri": "https://localhost:8080/",
          "height": 527
        },
        "id": "UYPCK1Q3KFBw",
        "outputId": "9a171237-8936-42b1-9c92-a9e2226af7b1"
      },
      "source": [
        "df_date = df.groupby('Date')[['Total Kasus','Sembuh','Meninggal','Aktif']].sum()\n",
        "df_date.head(15)"
      ],
      "execution_count": null,
      "outputs": [
        {
          "output_type": "execute_result",
          "data": {
            "text/html": [
              "<div>\n",
              "<style scoped>\n",
              "    .dataframe tbody tr th:only-of-type {\n",
              "        vertical-align: middle;\n",
              "    }\n",
              "\n",
              "    .dataframe tbody tr th {\n",
              "        vertical-align: top;\n",
              "    }\n",
              "\n",
              "    .dataframe thead th {\n",
              "        text-align: right;\n",
              "    }\n",
              "</style>\n",
              "<table border=\"1\" class=\"dataframe\">\n",
              "  <thead>\n",
              "    <tr style=\"text-align: right;\">\n",
              "      <th></th>\n",
              "      <th>Total Kasus</th>\n",
              "      <th>Sembuh</th>\n",
              "      <th>Meninggal</th>\n",
              "      <th>Aktif</th>\n",
              "    </tr>\n",
              "    <tr>\n",
              "      <th>Date</th>\n",
              "      <th></th>\n",
              "      <th></th>\n",
              "      <th></th>\n",
              "      <th></th>\n",
              "    </tr>\n",
              "  </thead>\n",
              "  <tbody>\n",
              "    <tr>\n",
              "      <th>2020-03-02</th>\n",
              "      <td>2</td>\n",
              "      <td>0</td>\n",
              "      <td>0</td>\n",
              "      <td>2</td>\n",
              "    </tr>\n",
              "    <tr>\n",
              "      <th>2020-03-03</th>\n",
              "      <td>2</td>\n",
              "      <td>0</td>\n",
              "      <td>0</td>\n",
              "      <td>2</td>\n",
              "    </tr>\n",
              "    <tr>\n",
              "      <th>2020-03-04</th>\n",
              "      <td>2</td>\n",
              "      <td>0</td>\n",
              "      <td>0</td>\n",
              "      <td>2</td>\n",
              "    </tr>\n",
              "    <tr>\n",
              "      <th>2020-03-05</th>\n",
              "      <td>2</td>\n",
              "      <td>0</td>\n",
              "      <td>0</td>\n",
              "      <td>2</td>\n",
              "    </tr>\n",
              "    <tr>\n",
              "      <th>2020-03-06</th>\n",
              "      <td>4</td>\n",
              "      <td>0</td>\n",
              "      <td>0</td>\n",
              "      <td>4</td>\n",
              "    </tr>\n",
              "    <tr>\n",
              "      <th>2020-03-07</th>\n",
              "      <td>4</td>\n",
              "      <td>0</td>\n",
              "      <td>0</td>\n",
              "      <td>4</td>\n",
              "    </tr>\n",
              "    <tr>\n",
              "      <th>2020-03-08</th>\n",
              "      <td>6</td>\n",
              "      <td>0</td>\n",
              "      <td>0</td>\n",
              "      <td>6</td>\n",
              "    </tr>\n",
              "    <tr>\n",
              "      <th>2020-03-09</th>\n",
              "      <td>19</td>\n",
              "      <td>0</td>\n",
              "      <td>0</td>\n",
              "      <td>19</td>\n",
              "    </tr>\n",
              "    <tr>\n",
              "      <th>2020-03-10</th>\n",
              "      <td>27</td>\n",
              "      <td>0</td>\n",
              "      <td>0</td>\n",
              "      <td>27</td>\n",
              "    </tr>\n",
              "    <tr>\n",
              "      <th>2020-03-11</th>\n",
              "      <td>34</td>\n",
              "      <td>2</td>\n",
              "      <td>2</td>\n",
              "      <td>30</td>\n",
              "    </tr>\n",
              "    <tr>\n",
              "      <th>2020-03-12</th>\n",
              "      <td>34</td>\n",
              "      <td>3</td>\n",
              "      <td>4</td>\n",
              "      <td>27</td>\n",
              "    </tr>\n",
              "    <tr>\n",
              "      <th>2020-03-13</th>\n",
              "      <td>69</td>\n",
              "      <td>5</td>\n",
              "      <td>4</td>\n",
              "      <td>60</td>\n",
              "    </tr>\n",
              "    <tr>\n",
              "      <th>2020-03-14</th>\n",
              "      <td>96</td>\n",
              "      <td>8</td>\n",
              "      <td>5</td>\n",
              "      <td>83</td>\n",
              "    </tr>\n",
              "    <tr>\n",
              "      <th>2020-03-15</th>\n",
              "      <td>117</td>\n",
              "      <td>8</td>\n",
              "      <td>5</td>\n",
              "      <td>104</td>\n",
              "    </tr>\n",
              "    <tr>\n",
              "      <th>2020-03-16</th>\n",
              "      <td>134</td>\n",
              "      <td>8</td>\n",
              "      <td>5</td>\n",
              "      <td>121</td>\n",
              "    </tr>\n",
              "  </tbody>\n",
              "</table>\n",
              "</div>"
            ],
            "text/plain": [
              "            Total Kasus  Sembuh  Meninggal  Aktif\n",
              "Date                                             \n",
              "2020-03-02            2       0          0      2\n",
              "2020-03-03            2       0          0      2\n",
              "2020-03-04            2       0          0      2\n",
              "2020-03-05            2       0          0      2\n",
              "2020-03-06            4       0          0      4\n",
              "2020-03-07            4       0          0      4\n",
              "2020-03-08            6       0          0      6\n",
              "2020-03-09           19       0          0     19\n",
              "2020-03-10           27       0          0     27\n",
              "2020-03-11           34       2          2     30\n",
              "2020-03-12           34       3          4     27\n",
              "2020-03-13           69       5          4     60\n",
              "2020-03-14           96       8          5     83\n",
              "2020-03-15          117       8          5    104\n",
              "2020-03-16          134       8          5    121"
            ]
          },
          "metadata": {
            "tags": []
          },
          "execution_count": 136
        }
      ]
    },
    {
      "cell_type": "code",
      "metadata": {
        "colab": {
          "base_uri": "https://localhost:8080/",
          "height": 786
        },
        "id": "F0skt7NqHFs7",
        "outputId": "2dfe3b1d-d6a7-4299-aefa-2b4c0dda95d1"
      },
      "source": [
        "plt.figure(figsize=(15,10))\n",
        "plt.plot (df_date[\"Sembuh\"], color='g', label='Recovered')\n",
        "plt.plot (df_date[\"Total Kasus\"], color='b', label='Confirmed')\n",
        "plt.plot (df_date[\"Meninggal\"], color='r', label='Death')\n",
        "plt.plot (df_date[\"Aktif\"], color='k', label='Current Case')\n",
        "plt.title ('Indonesian Covid-19 Cases')\n",
        "plt.legend()"
      ],
      "execution_count": null,
      "outputs": [
        {
          "output_type": "stream",
          "text": [
            "INFO:matplotlib.category:Using categorical units to plot a list of strings that are all parsable as floats or dates. If these strings should be plotted as numbers, cast to the appropriate data type before plotting.\n",
            "INFO:matplotlib.category:Using categorical units to plot a list of strings that are all parsable as floats or dates. If these strings should be plotted as numbers, cast to the appropriate data type before plotting.\n",
            "INFO:matplotlib.category:Using categorical units to plot a list of strings that are all parsable as floats or dates. If these strings should be plotted as numbers, cast to the appropriate data type before plotting.\n",
            "INFO:matplotlib.category:Using categorical units to plot a list of strings that are all parsable as floats or dates. If these strings should be plotted as numbers, cast to the appropriate data type before plotting.\n",
            "INFO:matplotlib.category:Using categorical units to plot a list of strings that are all parsable as floats or dates. If these strings should be plotted as numbers, cast to the appropriate data type before plotting.\n",
            "INFO:matplotlib.category:Using categorical units to plot a list of strings that are all parsable as floats or dates. If these strings should be plotted as numbers, cast to the appropriate data type before plotting.\n",
            "INFO:matplotlib.category:Using categorical units to plot a list of strings that are all parsable as floats or dates. If these strings should be plotted as numbers, cast to the appropriate data type before plotting.\n",
            "INFO:matplotlib.category:Using categorical units to plot a list of strings that are all parsable as floats or dates. If these strings should be plotted as numbers, cast to the appropriate data type before plotting.\n"
          ],
          "name": "stderr"
        },
        {
          "output_type": "execute_result",
          "data": {
            "text/plain": [
              "<matplotlib.legend.Legend at 0x7f7b3f1c75f8>"
            ]
          },
          "metadata": {
            "tags": []
          },
          "execution_count": 137
        },
        {
          "output_type": "display_data",
          "data": {
            "image/png": "[encoded data removed]",
            "text/plain": [
              "<Figure size 1080x720 with 1 Axes>"
            ]
          },
          "metadata": {
            "tags": [],
            "needs_background": "light"
          }
        }
      ]
    },
    {
      "cell_type": "code",
      "metadata": {
        "colab": {
          "base_uri": "https://localhost:8080/"
        },
        "id": "dJSNmEBqKVV5",
        "outputId": "070c9ee2-eaa9-4fbf-a1bc-b58c2a78977f"
      },
      "source": [
        "#Modelling\n",
        "\n",
        "#Inisialization\n",
        "from fbprophet import Prophet\n",
        "model = Prophet()\n",
        "\n",
        "#Adding seasonality\n",
        "#30.42 is the average days in a month of a year\n",
        "model.add_seasonality(name='Monthly', period=30.42, fourier_order=5)"
      ],
      "execution_count": null,
      "outputs": [
        {
          "output_type": "execute_result",
          "data": {
            "text/plain": [
              "<fbprophet.forecaster.Prophet at 0x7f7b3e385390>"
            ]
          },
          "metadata": {
            "tags": []
          },
          "execution_count": 212
        }
      ]
    },
    {
      "cell_type": "code",
      "metadata": {
        "id": "-KdcA9oALZfP"
      },
      "source": [
        "#Data Splitting Into Test and Training Sets\n",
        "\n",
        "df_date_reset = df_date.reset_index()\n",
        "df_recovered = df_date_reset[['Date','Sembuh']]\n",
        "df_confirmed = df_date_reset[['Date','Total Kasus']]\n",
        "df_death = df_date_reset[['Date','Meninggal']]\n",
        "df_current_case = df_date_reset[['Date','Aktif']]"
      ],
      "execution_count": null,
      "outputs": []
    },
    {
      "cell_type": "code",
      "metadata": {
        "id": "2Rhvzfhja2kx"
      },
      "source": [
        "#Using ds and y varibles tof prophet to predict\n",
        "\n",
        "def rename_func (dataframe):\n",
        "  cols = dataframe.columns\n",
        "  dataframe = dataframe.rename(columns = {cols[0]: 'ds', cols[1]:'y'})\n",
        "  return dataframe"
      ],
      "execution_count": null,
      "outputs": []
    },
    {
      "cell_type": "code",
      "metadata": {
        "id": "RFxWGgRJcSqD"
      },
      "source": [
        "df_recovered = rename_func(df_recovered)\n",
        "df_confirmed = rename_func(df_confirmed)\n",
        "df_death = rename_func(df_death)\n",
        "df_current_case = rename_func(df_current_case)"
      ],
      "execution_count": null,
      "outputs": []
    },
    {
      "cell_type": "code",
      "metadata": {
        "colab": {
          "base_uri": "https://localhost:8080/",
          "height": 197
        },
        "id": "VbWricbYcg2F",
        "outputId": "30f32bec-64b1-4e75-d4c2-075fb1cd6969"
      },
      "source": [
        "df_current_case.head()"
      ],
      "execution_count": null,
      "outputs": [
        {
          "output_type": "execute_result",
          "data": {
            "text/html": [
              "<div>\n",
              "<style scoped>\n",
              "    .dataframe tbody tr th:only-of-type {\n",
              "        vertical-align: middle;\n",
              "    }\n",
              "\n",
              "    .dataframe tbody tr th {\n",
              "        vertical-align: top;\n",
              "    }\n",
              "\n",
              "    .dataframe thead th {\n",
              "        text-align: right;\n",
              "    }\n",
              "</style>\n",
              "<table border=\"1\" class=\"dataframe\">\n",
              "  <thead>\n",
              "    <tr style=\"text-align: right;\">\n",
              "      <th></th>\n",
              "      <th>ds</th>\n",
              "      <th>y</th>\n",
              "    </tr>\n",
              "  </thead>\n",
              "  <tbody>\n",
              "    <tr>\n",
              "      <th>0</th>\n",
              "      <td>2020-03-02</td>\n",
              "      <td>2</td>\n",
              "    </tr>\n",
              "    <tr>\n",
              "      <th>1</th>\n",
              "      <td>2020-03-03</td>\n",
              "      <td>2</td>\n",
              "    </tr>\n",
              "    <tr>\n",
              "      <th>2</th>\n",
              "      <td>2020-03-04</td>\n",
              "      <td>2</td>\n",
              "    </tr>\n",
              "    <tr>\n",
              "      <th>3</th>\n",
              "      <td>2020-03-05</td>\n",
              "      <td>2</td>\n",
              "    </tr>\n",
              "    <tr>\n",
              "      <th>4</th>\n",
              "      <td>2020-03-06</td>\n",
              "      <td>4</td>\n",
              "    </tr>\n",
              "  </tbody>\n",
              "</table>\n",
              "</div>"
            ],
            "text/plain": [
              "           ds  y\n",
              "0  2020-03-02  2\n",
              "1  2020-03-03  2\n",
              "2  2020-03-04  2\n",
              "3  2020-03-05  2\n",
              "4  2020-03-06  4"
            ]
          },
          "metadata": {
            "tags": []
          },
          "execution_count": 216
        }
      ]
    },
    {
      "cell_type": "code",
      "metadata": {
        "colab": {
          "base_uri": "https://localhost:8080/"
        },
        "id": "pIqi4DbrcoiL",
        "outputId": "11d6abea-bbf5-432d-dacb-8830ac2927e5"
      },
      "source": [
        "#dataframe is the dataframe to split, ratio is the training dataset ratio\n",
        "def train_test_split(dataframe, ratio):\n",
        "  divisor = round ((ratio/100)*dataframe.shape[0])\n",
        "  train = dataframe.iloc[:divisor]\n",
        "  test = dataframe.iloc[divisor:]\n",
        "  return train, test, divisor\n",
        "\n",
        "current_case_train, current_case_test, divisor = train_test_split(df_current_case,40)\n",
        "current_case_train.shape, current_case_test.shape\n"
      ],
      "execution_count": null,
      "outputs": [
        {
          "output_type": "execute_result",
          "data": {
            "text/plain": [
              "((92, 2), (139, 2))"
            ]
          },
          "metadata": {
            "tags": []
          },
          "execution_count": 217
        }
      ]
    },
    {
      "cell_type": "code",
      "metadata": {
        "colab": {
          "base_uri": "https://localhost:8080/"
        },
        "id": "dZ1bGw15gm44",
        "outputId": "103f6188-679f-4a9f-eefb-bb967614f73a"
      },
      "source": [
        "#Model Fitting\n",
        "\n",
        "model.fit(current_case_train)"
      ],
      "execution_count": null,
      "outputs": [
        {
          "output_type": "stream",
          "text": [
            "INFO:fbprophet:Disabling yearly seasonality. Run prophet with yearly_seasonality=True to override this.\n",
            "INFO:fbprophet:Disabling daily seasonality. Run prophet with daily_seasonality=True to override this.\n"
          ],
          "name": "stderr"
        },
        {
          "output_type": "execute_result",
          "data": {
            "text/plain": [
              "<fbprophet.forecaster.Prophet at 0x7f7b3e385390>"
            ]
          },
          "metadata": {
            "tags": []
          },
          "execution_count": 218
        }
      ]
    },
    {
      "cell_type": "code",
      "metadata": {
        "colab": {
          "base_uri": "https://localhost:8080/",
          "height": 301
        },
        "id": "nXOyv5A4h1Xm",
        "outputId": "a6b94795-1f3b-4001-a1e0-351eadef14ed"
      },
      "source": [
        "#Model Prediction\n",
        "#Creating future date\n",
        "future_date = model.make_future_dataframe(periods=127)\n",
        "\n",
        "#Doing Prediction\n",
        "prediction = model.predict(future_date)\n",
        "\n",
        "prediction.head()"
      ],
      "execution_count": null,
      "outputs": [
        {
          "output_type": "execute_result",
          "data": {
            "text/html": [
              "<div>\n",
              "<style scoped>\n",
              "    .dataframe tbody tr th:only-of-type {\n",
              "        vertical-align: middle;\n",
              "    }\n",
              "\n",
              "    .dataframe tbody tr th {\n",
              "        vertical-align: top;\n",
              "    }\n",
              "\n",
              "    .dataframe thead th {\n",
              "        text-align: right;\n",
              "    }\n",
              "</style>\n",
              "<table border=\"1\" class=\"dataframe\">\n",
              "  <thead>\n",
              "    <tr style=\"text-align: right;\">\n",
              "      <th></th>\n",
              "      <th>ds</th>\n",
              "      <th>trend</th>\n",
              "      <th>yhat_lower</th>\n",
              "      <th>yhat_upper</th>\n",
              "      <th>trend_lower</th>\n",
              "      <th>trend_upper</th>\n",
              "      <th>Monthly</th>\n",
              "      <th>Monthly_lower</th>\n",
              "      <th>Monthly_upper</th>\n",
              "      <th>additive_terms</th>\n",
              "      <th>additive_terms_lower</th>\n",
              "      <th>additive_terms_upper</th>\n",
              "      <th>weekly</th>\n",
              "      <th>weekly_lower</th>\n",
              "      <th>weekly_upper</th>\n",
              "      <th>multiplicative_terms</th>\n",
              "      <th>multiplicative_terms_lower</th>\n",
              "      <th>multiplicative_terms_upper</th>\n",
              "      <th>yhat</th>\n",
              "    </tr>\n",
              "  </thead>\n",
              "  <tbody>\n",
              "    <tr>\n",
              "      <th>0</th>\n",
              "      <td>2020-03-02</td>\n",
              "      <td>35.991901</td>\n",
              "      <td>-101.837304</td>\n",
              "      <td>107.966640</td>\n",
              "      <td>35.991901</td>\n",
              "      <td>35.991901</td>\n",
              "      <td>7.234242</td>\n",
              "      <td>7.234242</td>\n",
              "      <td>7.234242</td>\n",
              "      <td>-28.828107</td>\n",
              "      <td>-28.828107</td>\n",
              "      <td>-28.828107</td>\n",
              "      <td>-36.062348</td>\n",
              "      <td>-36.062348</td>\n",
              "      <td>-36.062348</td>\n",
              "      <td>0.0</td>\n",
              "      <td>0.0</td>\n",
              "      <td>0.0</td>\n",
              "      <td>7.163794</td>\n",
              "    </tr>\n",
              "    <tr>\n",
              "      <th>1</th>\n",
              "      <td>2020-03-03</td>\n",
              "      <td>53.272545</td>\n",
              "      <td>-141.338607</td>\n",
              "      <td>83.515058</td>\n",
              "      <td>53.272545</td>\n",
              "      <td>53.272545</td>\n",
              "      <td>-39.478176</td>\n",
              "      <td>-39.478176</td>\n",
              "      <td>-39.478176</td>\n",
              "      <td>-84.417691</td>\n",
              "      <td>-84.417691</td>\n",
              "      <td>-84.417691</td>\n",
              "      <td>-44.939515</td>\n",
              "      <td>-44.939515</td>\n",
              "      <td>-44.939515</td>\n",
              "      <td>0.0</td>\n",
              "      <td>0.0</td>\n",
              "      <td>0.0</td>\n",
              "      <td>-31.145146</td>\n",
              "    </tr>\n",
              "    <tr>\n",
              "      <th>2</th>\n",
              "      <td>2020-03-04</td>\n",
              "      <td>70.553190</td>\n",
              "      <td>-127.769591</td>\n",
              "      <td>89.570476</td>\n",
              "      <td>70.553190</td>\n",
              "      <td>70.553190</td>\n",
              "      <td>-66.657290</td>\n",
              "      <td>-66.657290</td>\n",
              "      <td>-66.657290</td>\n",
              "      <td>-90.435283</td>\n",
              "      <td>-90.435283</td>\n",
              "      <td>-90.435283</td>\n",
              "      <td>-23.777993</td>\n",
              "      <td>-23.777993</td>\n",
              "      <td>-23.777993</td>\n",
              "      <td>0.0</td>\n",
              "      <td>0.0</td>\n",
              "      <td>0.0</td>\n",
              "      <td>-19.882093</td>\n",
              "    </tr>\n",
              "    <tr>\n",
              "      <th>3</th>\n",
              "      <td>2020-03-05</td>\n",
              "      <td>87.833835</td>\n",
              "      <td>-100.022999</td>\n",
              "      <td>115.087470</td>\n",
              "      <td>87.833835</td>\n",
              "      <td>87.833835</td>\n",
              "      <td>-84.074936</td>\n",
              "      <td>-84.074936</td>\n",
              "      <td>-84.074936</td>\n",
              "      <td>-76.010679</td>\n",
              "      <td>-76.010679</td>\n",
              "      <td>-76.010679</td>\n",
              "      <td>8.064257</td>\n",
              "      <td>8.064257</td>\n",
              "      <td>8.064257</td>\n",
              "      <td>0.0</td>\n",
              "      <td>0.0</td>\n",
              "      <td>0.0</td>\n",
              "      <td>11.823156</td>\n",
              "    </tr>\n",
              "    <tr>\n",
              "      <th>4</th>\n",
              "      <td>2020-03-06</td>\n",
              "      <td>105.114480</td>\n",
              "      <td>-82.777070</td>\n",
              "      <td>131.158272</td>\n",
              "      <td>105.114480</td>\n",
              "      <td>105.114480</td>\n",
              "      <td>-100.527521</td>\n",
              "      <td>-100.527521</td>\n",
              "      <td>-100.527521</td>\n",
              "      <td>-79.956851</td>\n",
              "      <td>-79.956851</td>\n",
              "      <td>-79.956851</td>\n",
              "      <td>20.570670</td>\n",
              "      <td>20.570670</td>\n",
              "      <td>20.570670</td>\n",
              "      <td>0.0</td>\n",
              "      <td>0.0</td>\n",
              "      <td>0.0</td>\n",
              "      <td>25.157629</td>\n",
              "    </tr>\n",
              "  </tbody>\n",
              "</table>\n",
              "</div>"
            ],
            "text/plain": [
              "          ds       trend  ...  multiplicative_terms_upper       yhat\n",
              "0 2020-03-02   35.991901  ...                         0.0   7.163794\n",
              "1 2020-03-03   53.272545  ...                         0.0 -31.145146\n",
              "2 2020-03-04   70.553190  ...                         0.0 -19.882093\n",
              "3 2020-03-05   87.833835  ...                         0.0  11.823156\n",
              "4 2020-03-06  105.114480  ...                         0.0  25.157629\n",
              "\n",
              "[5 rows x 19 columns]"
            ]
          },
          "metadata": {
            "tags": []
          },
          "execution_count": 219
        }
      ]
    },
    {
      "cell_type": "code",
      "metadata": {
        "colab": {
          "base_uri": "https://localhost:8080/",
          "height": 1000
        },
        "id": "ypoSzRObkQqF",
        "outputId": "22f4b52c-58ce-4b32-b85a-beb6b3abed5f"
      },
      "source": [
        "model.plot_components(prediction)"
      ],
      "execution_count": null,
      "outputs": [
        {
          "output_type": "execute_result",
          "data": {
            "image/png": "[encoded data removed]",
            "text/plain": [
              "<Figure size 648x648 with 3 Axes>"
            ]
          },
          "metadata": {
            "tags": []
          },
          "execution_count": 220
        },
        {
          "output_type": "display_data",
          "data": {
            "image/png": "[encoded data removed]",
            "text/plain": [
              "<Figure size 648x648 with 3 Axes>"
            ]
          },
          "metadata": {
            "tags": []
          }
        }
      ]
    },
    {
      "cell_type": "code",
      "metadata": {
        "colab": {
          "base_uri": "https://localhost:8080/",
          "height": 353
        },
        "id": "FdAEwwsdkswX",
        "outputId": "3981ed1e-8acf-41f1-fcfd-e387b335096e"
      },
      "source": [
        "#Evaluating The Model Using R-Square\n",
        "\n",
        "def check_metrics (test, prediction):\n",
        "  R2_score = r2_score(test['y'], prediction['yhat'].iloc[divisor:])\n",
        "  print(R2_score)\n",
        "\n",
        "check_metrics(current_case_test, prediction)\n"
      ],
      "execution_count": null,
      "outputs": [
        {
          "output_type": "error",
          "ename": "ValueError",
          "evalue": "ignored",
          "traceback": [
            "\u001b[0;31m---------------------------------------------------------------------------\u001b[0m",
            "\u001b[0;31mValueError\u001b[0m                                Traceback (most recent call last)",
            "\u001b[0;32m<ipython-input-221-f39134e8dac2>\u001b[0m in \u001b[0;36m<module>\u001b[0;34m()\u001b[0m\n\u001b[1;32m      5\u001b[0m   \u001b[0mprint\u001b[0m\u001b[0;34m(\u001b[0m\u001b[0mR2_score\u001b[0m\u001b[0;34m)\u001b[0m\u001b[0;34m\u001b[0m\u001b[0;34m\u001b[0m\u001b[0m\n\u001b[1;32m      6\u001b[0m \u001b[0;34m\u001b[0m\u001b[0m\n\u001b[0;32m----> 7\u001b[0;31m \u001b[0mcheck_metrics\u001b[0m\u001b[0;34m(\u001b[0m\u001b[0mcurrent_case_test\u001b[0m\u001b[0;34m,\u001b[0m \u001b[0mprediction\u001b[0m\u001b[0;34m)\u001b[0m\u001b[0;34m\u001b[0m\u001b[0;34m\u001b[0m\u001b[0m\n\u001b[0m",
            "\u001b[0;32m<ipython-input-221-f39134e8dac2>\u001b[0m in \u001b[0;36mcheck_metrics\u001b[0;34m(test, prediction)\u001b[0m\n\u001b[1;32m      2\u001b[0m \u001b[0;34m\u001b[0m\u001b[0m\n\u001b[1;32m      3\u001b[0m \u001b[0;32mdef\u001b[0m \u001b[0mcheck_metrics\u001b[0m \u001b[0;34m(\u001b[0m\u001b[0mtest\u001b[0m\u001b[0;34m,\u001b[0m \u001b[0mprediction\u001b[0m\u001b[0;34m)\u001b[0m\u001b[0;34m:\u001b[0m\u001b[0;34m\u001b[0m\u001b[0;34m\u001b[0m\u001b[0m\n\u001b[0;32m----> 4\u001b[0;31m   \u001b[0mR2_score\u001b[0m \u001b[0;34m=\u001b[0m \u001b[0mr2_score\u001b[0m\u001b[0;34m(\u001b[0m\u001b[0mtest\u001b[0m\u001b[0;34m[\u001b[0m\u001b[0;34m'y'\u001b[0m\u001b[0;34m]\u001b[0m\u001b[0;34m,\u001b[0m \u001b[0mprediction\u001b[0m\u001b[0;34m[\u001b[0m\u001b[0;34m'yhat'\u001b[0m\u001b[0;34m]\u001b[0m\u001b[0;34m.\u001b[0m\u001b[0miloc\u001b[0m\u001b[0;34m[\u001b[0m\u001b[0mdivisor\u001b[0m\u001b[0;34m:\u001b[0m\u001b[0;34m]\u001b[0m\u001b[0;34m)\u001b[0m\u001b[0;34m\u001b[0m\u001b[0;34m\u001b[0m\u001b[0m\n\u001b[0m\u001b[1;32m      5\u001b[0m   \u001b[0mprint\u001b[0m\u001b[0;34m(\u001b[0m\u001b[0mR2_score\u001b[0m\u001b[0;34m)\u001b[0m\u001b[0;34m\u001b[0m\u001b[0;34m\u001b[0m\u001b[0m\n\u001b[1;32m      6\u001b[0m \u001b[0;34m\u001b[0m\u001b[0m\n",
            "\u001b[0;32m/usr/local/lib/python3.6/dist-packages/sklearn/metrics/_regression.py\u001b[0m in \u001b[0;36mr2_score\u001b[0;34m(y_true, y_pred, sample_weight, multioutput)\u001b[0m\n\u001b[1;32m    575\u001b[0m     \"\"\"\n\u001b[1;32m    576\u001b[0m     y_type, y_true, y_pred, multioutput = _check_reg_targets(\n\u001b[0;32m--> 577\u001b[0;31m         y_true, y_pred, multioutput)\n\u001b[0m\u001b[1;32m    578\u001b[0m     \u001b[0mcheck_consistent_length\u001b[0m\u001b[0;34m(\u001b[0m\u001b[0my_true\u001b[0m\u001b[0;34m,\u001b[0m \u001b[0my_pred\u001b[0m\u001b[0;34m,\u001b[0m \u001b[0msample_weight\u001b[0m\u001b[0;34m)\u001b[0m\u001b[0;34m\u001b[0m\u001b[0;34m\u001b[0m\u001b[0m\n\u001b[1;32m    579\u001b[0m \u001b[0;34m\u001b[0m\u001b[0m\n",
            "\u001b[0;32m/usr/local/lib/python3.6/dist-packages/sklearn/metrics/_regression.py\u001b[0m in \u001b[0;36m_check_reg_targets\u001b[0;34m(y_true, y_pred, multioutput, dtype)\u001b[0m\n\u001b[1;32m     82\u001b[0m \u001b[0;34m\u001b[0m\u001b[0m\n\u001b[1;32m     83\u001b[0m     \"\"\"\n\u001b[0;32m---> 84\u001b[0;31m     \u001b[0mcheck_consistent_length\u001b[0m\u001b[0;34m(\u001b[0m\u001b[0my_true\u001b[0m\u001b[0;34m,\u001b[0m \u001b[0my_pred\u001b[0m\u001b[0;34m)\u001b[0m\u001b[0;34m\u001b[0m\u001b[0;34m\u001b[0m\u001b[0m\n\u001b[0m\u001b[1;32m     85\u001b[0m     \u001b[0my_true\u001b[0m \u001b[0;34m=\u001b[0m \u001b[0mcheck_array\u001b[0m\u001b[0;34m(\u001b[0m\u001b[0my_true\u001b[0m\u001b[0;34m,\u001b[0m \u001b[0mensure_2d\u001b[0m\u001b[0;34m=\u001b[0m\u001b[0;32mFalse\u001b[0m\u001b[0;34m,\u001b[0m \u001b[0mdtype\u001b[0m\u001b[0;34m=\u001b[0m\u001b[0mdtype\u001b[0m\u001b[0;34m)\u001b[0m\u001b[0;34m\u001b[0m\u001b[0;34m\u001b[0m\u001b[0m\n\u001b[1;32m     86\u001b[0m     \u001b[0my_pred\u001b[0m \u001b[0;34m=\u001b[0m \u001b[0mcheck_array\u001b[0m\u001b[0;34m(\u001b[0m\u001b[0my_pred\u001b[0m\u001b[0;34m,\u001b[0m \u001b[0mensure_2d\u001b[0m\u001b[0;34m=\u001b[0m\u001b[0;32mFalse\u001b[0m\u001b[0;34m,\u001b[0m \u001b[0mdtype\u001b[0m\u001b[0;34m=\u001b[0m\u001b[0mdtype\u001b[0m\u001b[0;34m)\u001b[0m\u001b[0;34m\u001b[0m\u001b[0;34m\u001b[0m\u001b[0m\n",
            "\u001b[0;32m/usr/local/lib/python3.6/dist-packages/sklearn/utils/validation.py\u001b[0m in \u001b[0;36mcheck_consistent_length\u001b[0;34m(*arrays)\u001b[0m\n\u001b[1;32m    210\u001b[0m     \u001b[0;32mif\u001b[0m \u001b[0mlen\u001b[0m\u001b[0;34m(\u001b[0m\u001b[0muniques\u001b[0m\u001b[0;34m)\u001b[0m \u001b[0;34m>\u001b[0m \u001b[0;36m1\u001b[0m\u001b[0;34m:\u001b[0m\u001b[0;34m\u001b[0m\u001b[0;34m\u001b[0m\u001b[0m\n\u001b[1;32m    211\u001b[0m         raise ValueError(\"Found input variables with inconsistent numbers of\"\n\u001b[0;32m--> 212\u001b[0;31m                          \" samples: %r\" % [int(l) for l in lengths])\n\u001b[0m\u001b[1;32m    213\u001b[0m \u001b[0;34m\u001b[0m\u001b[0m\n\u001b[1;32m    214\u001b[0m \u001b[0;34m\u001b[0m\u001b[0m\n",
            "\u001b[0;31mValueError\u001b[0m: Found input variables with inconsistent numbers of samples: [139, 127]"
          ]
        }
      ]
    },
    {
      "cell_type": "code",
      "metadata": {
        "colab": {
          "base_uri": "https://localhost:8080/",
          "height": 441
        },
        "id": "aGN7taLVliUP",
        "outputId": "4db6e14b-5b7c-4600-a33e-f4eadb68ffef"
      },
      "source": [
        "#Looking Deeper into Points of Changes\n",
        "\n",
        "from fbprophet.plot import add_changepoints_to_plot\n",
        "fig = model.plot(prediction)\n",
        "changes = add_changepoints_to_plot(fig.gca(), model, prediction)"
      ],
      "execution_count": null,
      "outputs": [
        {
          "output_type": "display_data",
          "data": {
            "image/png": "[encoded data removed]",
            "text/plain": [
              "<Figure size 720x432 with 1 Axes>"
            ]
          },
          "metadata": {
            "tags": []
          }
        }
      ]
    },
    {
      "cell_type": "code",
      "metadata": {
        "id": "9p2R0N2ImtC-"
      },
      "source": [
        ""
      ],
      "execution_count": null,
      "outputs": []
    }
  ]
}